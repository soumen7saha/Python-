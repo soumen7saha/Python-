{
 "cells": [
  {
   "cell_type": "code",
   "execution_count": 78,
   "id": "54620c4f",
   "metadata": {},
   "outputs": [],
   "source": [
    "class Node:\n",
    "    def __init__(self,data):\n",
    "        self.data = data\n",
    "        self.next = None\n",
    "        \n",
    "def takeInput():\n",
    "    head = None\n",
    "    #prevNode=None\n",
    "    inputList=[int(ele) for ele in input().split()]\n",
    "    for i in inputList:\n",
    "        if i==-1:\n",
    "            break\n",
    "        newNode=Node(i)\n",
    "        if head is None:\n",
    "            head = newNode\n",
    "        else:\n",
    "            curr = head\n",
    "            while curr.next:\n",
    "                curr=curr.next\n",
    "            curr.next=newNode\n",
    "    return head\n",
    "\n",
    "def printLL(head):\n",
    "    itr=head\n",
    "    while itr:\n",
    "        print(str(itr.data)+' --> ',end=' ')\n",
    "        itr=itr.next\n",
    "    print('NULL')\n",
    "    return\n",
    "\n",
    "def takeInput2():\n",
    "    head = None\n",
    "    tail = None\n",
    "    inputList=[int(ele) for ele in input().split()]\n",
    "    for i in inputList:\n",
    "        if i == -1:\n",
    "            break\n",
    "        newNode=Node(i)\n",
    "        if not head:\n",
    "            head = newNode\n",
    "            tail = newNode\n",
    "        else:\n",
    "            tail.next=newNode\n",
    "            tail=newNode\n",
    "    return head\n",
    "\n",
    "def sizeLL(head):\n",
    "    i = 0\n",
    "    itr=head\n",
    "    while itr:\n",
    "        i+=1\n",
    "        itr=itr.next\n",
    "    return i\n",
    "\n",
    "\"\"\"\n",
    "def insertByIdx(head,idx,data): #using single pointer\n",
    "    itr = head\n",
    "    s=sizeLL(head)\n",
    "    i = 0\n",
    "    if idx<0 or idx>s:\n",
    "        return head\n",
    "    if idx == 0:\n",
    "        newNode=Node(data)\n",
    "        newNode.next=head\n",
    "        head=newNode\n",
    "        return head\n",
    "    while i<idx-1:\n",
    "        itr = itr.next\n",
    "        i+=1\n",
    "    newNode=Node(data)\n",
    "    newNode.next=itr.next\n",
    "    itr.next=newNode\n",
    "    \n",
    "    return head\n",
    "\"\"\"\n",
    "\n",
    "def insertByIdx(head,idx,data): #using two pointers\n",
    "    itr = head\n",
    "    s=sizeLL(head)\n",
    "    if idx<0 or idx>s:\n",
    "        return head\n",
    "    i=0\n",
    "    currNode=head\n",
    "    prevNode=None\n",
    "    while i<idx:\n",
    "        prevNode=currNode\n",
    "        currNode=currNode.next\n",
    "        i+=1\n",
    "        \n",
    "    newNode=Node(data)\n",
    "    if prevNode:\n",
    "        prevNode.next=newNode\n",
    "    else:\n",
    "        head=newNode\n",
    "    newNode.next=currNode\n",
    "    \n",
    "    return head\n",
    "\n",
    "def insertByIdxR(head,idx,data): # insertion using recursion\n",
    "    if idx<0:\n",
    "        return head\n",
    "    if idx==0:\n",
    "        newNode=Node(data)\n",
    "        newNode.next = head\n",
    "        return newNode\n",
    "    if not head:\n",
    "        return None\n",
    "    \n",
    "    smallHead = insertAtIR(head.next,idx-1,data)\n",
    "    head.next=smallHead\n",
    "    return head\n",
    "\n",
    "def delNodeByIdx(head, pos) :\n",
    "    if pos < 0 or pos > sizeLL(head)-1:\n",
    "        return head\n",
    "    currNode=head\n",
    "    prevNode=None\n",
    "    i = 0\n",
    "    if pos==0:\n",
    "        head=head.next\n",
    "        return head\n",
    "    while i<pos:\n",
    "        prevNode=currNode\n",
    "        currNode=currNode.next\n",
    "        i+=1\n",
    "    prevNode.next=currNode.next\n",
    "    return head\n",
    "\n",
    "def delByIdxR(head,idx): # insertion using recursion\n",
    "    if idx<0 or idx>sizeLL(head)-1:\n",
    "        return head\n",
    "    if idx==0:\n",
    "        head = head.next\n",
    "        return head\n",
    "    if not head:\n",
    "        return None\n",
    "    \n",
    "    smallHead = delByIdxR(head.next,idx-1)\n",
    "    head.next=smallHead\n",
    "    return head\n",
    "\n",
    "def appendLastNToFirst(head, n) :\n",
    "    if n <= 0 or n > sizeLL(head):\n",
    "        return head\n",
    "    j = sizeLL(head)-n\n",
    "    i = 0\n",
    "    itr = head\n",
    "    while i<j-1:\n",
    "        itr=itr.next\n",
    "        i+=1\n",
    "    \n",
    "    itr3=itr.next\n",
    "    itr2=itr.next\n",
    "    itr.next=None\n",
    "    while itr2.next:\n",
    "        itr2=itr2.next\n",
    "    itr2.next=head\n",
    "    return itr3\n",
    "\n",
    "def removeDuplicates(head) :\n",
    "    itr = head\n",
    "    prev=None\n",
    "    while itr:\n",
    "        if prev and prev.data==itr.data:\n",
    "            prev.next=itr.next\n",
    "            itr=itr.next\n",
    "            continue\n",
    "        prev=itr\n",
    "        itr=itr.next\n",
    "    return head\n",
    "\n",
    "def printReverse(head) :\n",
    "    s=''\n",
    "    itr=head\n",
    "    while itr:\n",
    "        s=str(itr.data)+' '+s\n",
    "        itr=itr.next\n",
    "    print(s)"
   ]
  },
  {
   "cell_type": "code",
   "execution_count": 31,
   "id": "627b9e29",
   "metadata": {},
   "outputs": [
    {
     "name": "stdout",
     "output_type": "stream",
     "text": [
      "1 3 5 7 9 -1\n"
     ]
    }
   ],
   "source": [
    "head=takeInput()"
   ]
  },
  {
   "cell_type": "code",
   "execution_count": 33,
   "id": "fb3deaad",
   "metadata": {},
   "outputs": [
    {
     "name": "stdout",
     "output_type": "stream",
     "text": [
      "1 -->  3 -->  5 -->  7 -->  9 -->  NULL\n"
     ]
    }
   ],
   "source": [
    "printLL(head)"
   ]
  },
  {
   "cell_type": "code",
   "execution_count": 39,
   "id": "5f3b3979",
   "metadata": {},
   "outputs": [
    {
     "name": "stdout",
     "output_type": "stream",
     "text": [
      "2 4 6 8 -1\n"
     ]
    }
   ],
   "source": [
    "head = takeInput2()"
   ]
  },
  {
   "cell_type": "code",
   "execution_count": 40,
   "id": "df8d1732",
   "metadata": {},
   "outputs": [
    {
     "name": "stdout",
     "output_type": "stream",
     "text": [
      "2 -->  4 -->  6 -->  8 -->  NULL\n"
     ]
    }
   ],
   "source": [
    "printLL(head)"
   ]
  },
  {
   "cell_type": "code",
   "execution_count": 43,
   "id": "b6016eab",
   "metadata": {},
   "outputs": [
    {
     "data": {
      "text/plain": [
       "4"
      ]
     },
     "execution_count": 43,
     "metadata": {},
     "output_type": "execute_result"
    }
   ],
   "source": [
    "sizeLL(head)"
   ]
  },
  {
   "cell_type": "code",
   "execution_count": 61,
   "id": "26e317bd",
   "metadata": {},
   "outputs": [
    {
     "name": "stdout",
     "output_type": "stream",
     "text": [
      "11 -->  1 -->  2 -->  3 -->  4 -->  6 -->  11 -->  9 -->  8 -->  11 -->  NULL\n"
     ]
    }
   ],
   "source": [
    "head=insertByIdx(head,0,11)\n",
    "printLL(head)"
   ]
  },
  {
   "cell_type": "code",
   "execution_count": 65,
   "id": "1b0667fc",
   "metadata": {},
   "outputs": [
    {
     "name": "stdout",
     "output_type": "stream",
     "text": [
      "11 -->  1 -->  11 -->  2 -->  3 -->  4 -->  6 -->  11 -->  9 -->  8 -->  11 -->  NULL\n"
     ]
    }
   ],
   "source": [
    "head=insertByIdxR(head,2,11)\n",
    "printLL(head)"
   ]
  },
  {
   "cell_type": "code",
   "execution_count": 75,
   "id": "6e87f77c",
   "metadata": {},
   "outputs": [
    {
     "name": "stdout",
     "output_type": "stream",
     "text": [
      "11 -->  1 -->  2 -->  3 -->  4 -->  6 -->  11 -->  9 -->  8 -->  11 -->  NULL\n"
     ]
    }
   ],
   "source": [
    "head = delByIdxR(head,2)\n",
    "printLL(head)"
   ]
  },
  {
   "cell_type": "code",
   "execution_count": 79,
   "id": "99c23e10",
   "metadata": {},
   "outputs": [
    {
     "data": {
      "text/plain": [
       "[1, 3, 4, 12, 12, 4, 3, 1]"
      ]
     },
     "execution_count": 79,
     "metadata": {},
     "output_type": "execute_result"
    }
   ],
   "source": [
    "l=[1,3,4,12,12,4,3,1]\n",
    "l"
   ]
  },
  {
   "cell_type": "code",
   "execution_count": 80,
   "id": "b1a817e6",
   "metadata": {},
   "outputs": [
    {
     "data": {
      "text/plain": [
       "[1, 3, 4, 12, 12, 4, 3, 1]"
      ]
     },
     "execution_count": 80,
     "metadata": {},
     "output_type": "execute_result"
    }
   ],
   "source": [
    "l[::-1]"
   ]
  },
  {
   "cell_type": "code",
   "execution_count": 81,
   "id": "48a4c554",
   "metadata": {},
   "outputs": [
    {
     "data": {
      "text/plain": [
       "True"
      ]
     },
     "execution_count": 81,
     "metadata": {},
     "output_type": "execute_result"
    }
   ],
   "source": [
    "l==l[::-1]"
   ]
  },
  {
   "cell_type": "markdown",
   "id": "66ef5fa8",
   "metadata": {},
   "source": [
    "## Reverse the Linked List"
   ]
  },
  {
   "cell_type": "code",
   "execution_count": 86,
   "id": "1a37bc2f",
   "metadata": {},
   "outputs": [],
   "source": [
    "# O(n**2)\n",
    "def ReverseLL(head):\n",
    "    if not head or not head.next:\n",
    "        return head\n",
    "    \n",
    "    smallHead = ReverseLL(head.next)\n",
    "    itr=smallHead\n",
    "    while itr.next:\n",
    "        itr=itr.next\n",
    "    itr.next=head\n",
    "    head.next=None\n",
    "    \n",
    "    return smallHead"
   ]
  },
  {
   "cell_type": "code",
   "execution_count": 87,
   "id": "da10388e",
   "metadata": {},
   "outputs": [
    {
     "name": "stdout",
     "output_type": "stream",
     "text": [
      "1 2 3 4 5 -1\n",
      "5 -->  4 -->  3 -->  2 -->  1 -->  NULL\n"
     ]
    }
   ],
   "source": [
    "head=takeInput()\n",
    "head=ReverseLL(head)\n",
    "printLL(head)"
   ]
  },
  {
   "cell_type": "code",
   "execution_count": 92,
   "id": "5ff71a63",
   "metadata": {},
   "outputs": [],
   "source": [
    "# O(n)\n",
    "def ReverseLL2(head):\n",
    "    if not head or not head.next:\n",
    "        return head,head\n",
    "    \n",
    "    smallHead,smallTail = ReverseLL2(head.next)\n",
    "    smallTail.next=head\n",
    "    head.next=None\n",
    "    \n",
    "    return smallHead,head"
   ]
  },
  {
   "cell_type": "code",
   "execution_count": 98,
   "id": "babb09d6",
   "metadata": {},
   "outputs": [],
   "source": [
    "def ReverseLL3(head):\n",
    "    if not head or not head.next:\n",
    "        return head\n",
    "    \n",
    "    smallHead = ReverseLL3(head.next)\n",
    "    smallTail=head.next\n",
    "    smallTail.next=head\n",
    "    head.next=None\n",
    "    \n",
    "    return smallHead"
   ]
  },
  {
   "cell_type": "code",
   "execution_count": 100,
   "id": "4375cc99",
   "metadata": {},
   "outputs": [
    {
     "name": "stdout",
     "output_type": "stream",
     "text": [
      "1 2 3 4 5 6 7 -1\n",
      "7 -->  6 -->  5 -->  4 -->  3 -->  2 -->  1 -->  NULL\n"
     ]
    }
   ],
   "source": [
    "head=takeInput2()\n",
    "head=ReverseLL3(head)\n",
    "printLL(head)"
   ]
  },
  {
   "cell_type": "code",
   "execution_count": 103,
   "id": "377516ce",
   "metadata": {},
   "outputs": [],
   "source": [
    "# Iterative Approach\n",
    "def ReverseLL4(head):\n",
    "    currNode=head\n",
    "    prevNode=None\n",
    "    if not head.next:\n",
    "        return head\n",
    "    while currNode:\n",
    "        nextNode=currNode.next\n",
    "        currNode.next=prevNode\n",
    "        prevNode=currNode\n",
    "        currNode=nextNode\n",
    "    return prevNode"
   ]
  },
  {
   "cell_type": "code",
   "execution_count": 104,
   "id": "61e1db48",
   "metadata": {},
   "outputs": [
    {
     "name": "stdout",
     "output_type": "stream",
     "text": [
      "1 4 7 9 0 11 -1\n",
      "11 -->  0 -->  9 -->  7 -->  4 -->  1 -->  NULL\n"
     ]
    }
   ],
   "source": [
    "head=takeInput2()\n",
    "head=ReverseLL4(head)\n",
    "printLL(head)"
   ]
  },
  {
   "cell_type": "markdown",
   "id": "eda9f83c",
   "metadata": {},
   "source": [
    "## Mid-point of Linked List"
   ]
  },
  {
   "cell_type": "code",
   "execution_count": 95,
   "id": "cc0c7dc6",
   "metadata": {},
   "outputs": [],
   "source": [
    "def midPoint(head) :\n",
    "    s=sizeLL(head)\n",
    "    if s==0:\n",
    "        return\n",
    "    if s==1:\n",
    "        return head\n",
    "    m=0\n",
    "    if s%2==0:\n",
    "        m=s//2\n",
    "    else:\n",
    "        m=s//2+1\n",
    "    i=0\n",
    "    itr=head\n",
    "    while i<m-1:\n",
    "        i+=1\n",
    "        itr=itr.next\n",
    "    return itr"
   ]
  },
  {
   "cell_type": "code",
   "execution_count": 6,
   "id": "ca8205de",
   "metadata": {},
   "outputs": [],
   "source": [
    "def mergeTwoSortedLinkedLists(head1, head2):\n",
    "    tail=Node(0)\n",
    "    while True:\n",
    "        if not head1:\n",
    "            tail.next=head2\n",
    "        if not head2:\n",
    "            tail.next=head1\n",
    "        \n",
    "        if head1.data<=head2.data:\n",
    "            tail.next=head1\n",
    "            head1=head1.next\n",
    "        else:\n",
    "            tail.next=head2\n",
    "            head2=head2.next\n",
    "        tail=tail.next\n",
    "    return tail.next\n"
   ]
  },
  {
   "cell_type": "code",
   "execution_count": 105,
   "id": "d470ee9a",
   "metadata": {},
   "outputs": [],
   "source": [
    "def getMiddle(self, head):\n",
    "    if (head == None):\n",
    "        return head\n",
    "\n",
    "    slow = head\n",
    "    fast = head\n",
    "    while (fast.next != None and fast.next.next != None):\n",
    "        slow = slow.next\n",
    "        fast = fast.next.next\n",
    "    return slow\n",
    "\n",
    "def sortedMerge(self, a, b):\n",
    "    result = None\n",
    "    if a == None:\n",
    "        return b\n",
    "    if b == None:\n",
    "        return a\n",
    "\n",
    "    if a.data <= b.data:\n",
    "        result = a\n",
    "        result.next = self.sortedMerge(a.next, b)\n",
    "    else:\n",
    "        result = b\n",
    "        result.next = self.sortedMerge(a, b.next)\n",
    "    return result\n",
    "\n",
    "def mergeSort(head) :\n",
    "    if h == None or h.next == None:\n",
    "            return h\n",
    " \n",
    "    middle = self.getMiddle(h)\n",
    "    nexttomiddle = middle.next\n",
    "    middle.next = None\n",
    "    left = self.mergeSort(h)\n",
    "    right = self.mergeSort(nexttomiddle)\n",
    "    sortedlist = self.sortedMerge(left, right)\n",
    "    return sortedlist"
   ]
  },
  {
   "cell_type": "code",
   "execution_count": 5,
   "id": "5d88de23",
   "metadata": {},
   "outputs": [],
   "source": [
    "def swapNodes(head, i, j) :\n",
    "    iNode=None\n",
    "    jNode=None\n",
    "    itr=head\n",
    "    k = 0\n",
    "    while itr:\n",
    "        if k==i:\n",
    "            iNode=itr\n",
    "        if k==j:\n",
    "            jNode=itr\n",
    "        itr=itr.next\n",
    "    temp=iNode\n",
    "    iNode=jNode\n",
    "    jNode=temp\n",
    "    return head"
   ]
  },
  {
   "cell_type": "code",
   "execution_count": 4,
   "id": "ab12e6ce",
   "metadata": {},
   "outputs": [],
   "source": [
    "def bubbleSort(head) :\n",
    "    itr1=head\n",
    "    itr2=head.next\n",
    "    temp=Node(0)\n",
    "    while itr1:\n",
    "        itr2=itr1\n",
    "        while itr2.next:\n",
    "            if itr2.data>itr2.next.data:\n",
    "                temp.data=itr2.data\n",
    "                itr2.data=itr2.next.data\n",
    "                itr2.next.data=temp.data\n",
    "            itr2=itr2.next\n",
    "        itr1=itr1.next\n",
    "    return head"
   ]
  },
  {
   "cell_type": "code",
   "execution_count": 111,
   "id": "5688b2d9",
   "metadata": {},
   "outputs": [
    {
     "data": {
      "text/plain": [
       "3"
      ]
     },
     "execution_count": 111,
     "metadata": {},
     "output_type": "execute_result"
    }
   ],
   "source": [
    "import math\n",
    "math.ceil(11/4)"
   ]
  },
  {
   "cell_type": "code",
   "execution_count": 3,
   "id": "5797cccf",
   "metadata": {},
   "outputs": [],
   "source": [
    "def kReverse(head, k) :\n",
    "    s=math.ceil(sizeLL(head)/4)\n",
    "    lst = [Node() for i in range(s)]\n",
    "    for i in range(s):\n",
    "        j = 0\n",
    "        while itr and j<k:\n",
    "            lst[i].next=itr\n",
    "            lst[i]=lst[i].next\n",
    "            itr=itr.next\n",
    "            j+=1\n",
    "        lst[i].next=None\n",
    "    for i in range(s):\n",
    "        lst[i]=ReverseLL(lst[i])\n",
    "        if i+1<s:\n",
    "            lst[i].next=lst[i+1]\n",
    "    return lst[0]"
   ]
  },
  {
   "cell_type": "code",
   "execution_count": 2,
   "id": "b45e5a5d",
   "metadata": {},
   "outputs": [],
   "source": [
    "def skipMdeleteN(head, M, N) :\n",
    "    itr = head\n",
    "    while itr:\n",
    "        i = 0\n",
    "        while i<M:\n",
    "            itr=itr.next\n",
    "            i+=1\n",
    "        j=0\n",
    "        while j<N:\n",
    "            itr.next=itr.next.next\n",
    "            j+=1\n",
    "        continue\n",
    "    return head"
   ]
  },
  {
   "cell_type": "code",
   "execution_count": 118,
   "id": "4c6e2c7d",
   "metadata": {},
   "outputs": [
    {
     "data": {
      "text/plain": [
       "[2, 3, 4, 7, 8, 9]"
      ]
     },
     "execution_count": 118,
     "metadata": {},
     "output_type": "execute_result"
    }
   ],
   "source": [
    "lst = []\n",
    "i = 0\n",
    "while i < 10:\n",
    "    i+=2\n",
    "    for j in range(3):\n",
    "        lst.append(i)\n",
    "        i+=1\n",
    "    continue\n",
    "lst"
   ]
  },
  {
   "cell_type": "code",
   "execution_count": 1,
   "id": "1f307c2e",
   "metadata": {},
   "outputs": [],
   "source": [
    "def skipMdeleteN(head, M, N) :\n",
    "    s=sizeLL(head)\n",
    "    lst = []\n",
    "    i = 0\n",
    "    while i < 10:\n",
    "        i+=2\n",
    "        for j in range(3):\n",
    "            lst.append(i)\n",
    "            i+=1\n",
    "        continue\n",
    "    for i in lst:\n",
    "        head=delNodeByIdx(head, pos)\n",
    "        lst=[j-1 for j in lst]\n",
    "    return head"
   ]
  }
 ],
 "metadata": {
  "kernelspec": {
   "display_name": "Python 3 (ipykernel)",
   "language": "python",
   "name": "python3"
  },
  "language_info": {
   "codemirror_mode": {
    "name": "ipython",
    "version": 3
   },
   "file_extension": ".py",
   "mimetype": "text/x-python",
   "name": "python",
   "nbconvert_exporter": "python",
   "pygments_lexer": "ipython3",
   "version": "3.9.12"
  }
 },
 "nbformat": 4,
 "nbformat_minor": 5
}
