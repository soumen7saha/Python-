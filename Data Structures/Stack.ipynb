{
 "cells": [
  {
   "cell_type": "code",
   "execution_count": 1,
   "id": "bdc61764",
   "metadata": {},
   "outputs": [],
   "source": [
    "class StackA: # Stack implementation using array \n",
    "    def __init__(self):\n",
    "        self.__data=[]\n",
    "    \n",
    "    def push(self,val):\n",
    "        self.__data.append(val)\n",
    "    \n",
    "    def pop(self,):\n",
    "        if self.isEmpty():\n",
    "            return 'Stack is EMPTY!'\n",
    "        return self.__data.pop()\n",
    "    \n",
    "    def top(self):\n",
    "        if self.isEmpty():\n",
    "            return 'Stack is EMPTY!'\n",
    "        return self.__data[-1]\n",
    "    \n",
    "    def size(self):\n",
    "        return len(self.__data)\n",
    "    \n",
    "    def isEmpty(self):\n",
    "        return len(self.__data)==0\n",
    "    \n",
    "    def printStack(self):\n",
    "        if self.isEmpty():\n",
    "            print('Stack is EMPTY!')\n",
    "            return\n",
    "        for i in self.__data[::-1]:\n",
    "            print(i)\n",
    "            print('|')"
   ]
  },
  {
   "cell_type": "code",
   "execution_count": 2,
   "id": "c903056b",
   "metadata": {},
   "outputs": [
    {
     "name": "stdout",
     "output_type": "stream",
     "text": [
      "90\n",
      "|\n",
      "80\n",
      "|\n",
      "70\n",
      "|\n",
      "60\n",
      "|\n",
      "50\n",
      "|\n",
      "40\n",
      "|\n",
      "30\n",
      "|\n",
      "20\n",
      "|\n",
      "10\n",
      "|\n"
     ]
    }
   ],
   "source": [
    "s=StackA()\n",
    "for i in range(10,100,10):\n",
    "    s.push(i)\n",
    "s.printStack()"
   ]
  },
  {
   "cell_type": "code",
   "execution_count": 3,
   "id": "ae568dae",
   "metadata": {},
   "outputs": [
    {
     "name": "stdout",
     "output_type": "stream",
     "text": [
      "40\n",
      "|\n",
      "30\n",
      "|\n",
      "20\n",
      "|\n",
      "10\n",
      "|\n"
     ]
    }
   ],
   "source": [
    "for i in range(5):\n",
    "    s.pop()\n",
    "s.printStack()"
   ]
  },
  {
   "cell_type": "code",
   "execution_count": 4,
   "id": "03c6b98f",
   "metadata": {},
   "outputs": [
    {
     "data": {
      "text/plain": [
       "4"
      ]
     },
     "execution_count": 4,
     "metadata": {},
     "output_type": "execute_result"
    }
   ],
   "source": [
    "s.size()"
   ]
  },
  {
   "cell_type": "code",
   "execution_count": 5,
   "id": "1a1ee72d",
   "metadata": {},
   "outputs": [
    {
     "data": {
      "text/plain": [
       "40"
      ]
     },
     "execution_count": 5,
     "metadata": {},
     "output_type": "execute_result"
    }
   ],
   "source": [
    "s.top()"
   ]
  },
  {
   "cell_type": "code",
   "execution_count": 6,
   "id": "c5bf791d",
   "metadata": {},
   "outputs": [],
   "source": [
    "class Node:\n",
    "    def __init__(self,data=None):\n",
    "        self.data=data\n",
    "        self.next=None\n",
    "        \n",
    "class StackLL: # Stack implementation using linked list \n",
    "    def __init__(self):\n",
    "        self.__head=None # X Node()\n",
    "        self.__count=0\n",
    "    \n",
    "    def push(self,val):\n",
    "        newNode=Node(val)\n",
    "        newNode.next=self.__head\n",
    "        self.__head=newNode\n",
    "        self.__count+=1\n",
    "    \n",
    "    def pop(self,):\n",
    "        if self.isEmpty():\n",
    "            return 'Stack is EMPTY!'\n",
    "        val = self.__head.data\n",
    "        self.__head=self.__head.next\n",
    "        self.__count-=1\n",
    "        return val\n",
    "    \n",
    "    def top(self):\n",
    "        if self.isEmpty():\n",
    "            return 'Stack is EMPTY!'\n",
    "        val = self.__head.data\n",
    "        return val\n",
    "    \n",
    "    def size(self):\n",
    "        return self.__count\n",
    "    \n",
    "    def isEmpty(self):\n",
    "        return self.__count==0\n",
    "    \n",
    "    def printStack(self):\n",
    "        if self.isEmpty():\n",
    "            print('Stack is EMPTY!')\n",
    "            return\n",
    "        itr=self.__head\n",
    "        while itr:\n",
    "            print(itr.data)\n",
    "            print('|')\n",
    "            itr=itr.next"
   ]
  },
  {
   "cell_type": "code",
   "execution_count": 7,
   "id": "bca2ec19",
   "metadata": {},
   "outputs": [
    {
     "name": "stdout",
     "output_type": "stream",
     "text": [
      "90\n",
      "|\n",
      "80\n",
      "|\n",
      "70\n",
      "|\n",
      "60\n",
      "|\n",
      "50\n",
      "|\n",
      "40\n",
      "|\n",
      "30\n",
      "|\n",
      "20\n",
      "|\n",
      "10\n",
      "|\n"
     ]
    }
   ],
   "source": [
    "s1=StackLL()\n",
    "for i in range(10,100,10):\n",
    "    s1.push(i)\n",
    "s1.printStack()"
   ]
  },
  {
   "cell_type": "code",
   "execution_count": 8,
   "id": "d6598b6b",
   "metadata": {},
   "outputs": [
    {
     "name": "stdout",
     "output_type": "stream",
     "text": [
      "40\n",
      "|\n",
      "30\n",
      "|\n",
      "20\n",
      "|\n",
      "10\n",
      "|\n"
     ]
    }
   ],
   "source": [
    "for i in range(5):\n",
    "    s1.pop()\n",
    "s1.printStack()"
   ]
  },
  {
   "cell_type": "code",
   "execution_count": 9,
   "id": "bc358983",
   "metadata": {},
   "outputs": [
    {
     "data": {
      "text/plain": [
       "40"
      ]
     },
     "execution_count": 9,
     "metadata": {},
     "output_type": "execute_result"
    }
   ],
   "source": [
    "s1.top()"
   ]
  },
  {
   "cell_type": "markdown",
   "id": "d7258bc6",
   "metadata": {},
   "source": [
    "## In-built Stack in Python"
   ]
  },
  {
   "cell_type": "code",
   "execution_count": 10,
   "id": "df19d834",
   "metadata": {},
   "outputs": [],
   "source": [
    "import queue"
   ]
  },
  {
   "cell_type": "code",
   "execution_count": 11,
   "id": "ce1e3b78",
   "metadata": {},
   "outputs": [],
   "source": [
    "Stack=queue.LifoQueue()\n",
    "for i in range(10):\n",
    "    Stack.put(i) #push"
   ]
  },
  {
   "cell_type": "code",
   "execution_count": 12,
   "id": "bb2a98d0",
   "metadata": {},
   "outputs": [
    {
     "name": "stdout",
     "output_type": "stream",
     "text": [
      "9\n",
      "8\n",
      "7\n",
      "6\n",
      "5\n",
      "4\n",
      "3\n",
      "2\n",
      "1\n",
      "0\n"
     ]
    }
   ],
   "source": [
    "while not Stack.empty():\n",
    "    print(Stack.get()) #pop"
   ]
  }
 ],
 "metadata": {
  "kernelspec": {
   "display_name": "Python 3 (ipykernel)",
   "language": "python",
   "name": "python3"
  },
  "language_info": {
   "codemirror_mode": {
    "name": "ipython",
    "version": 3
   },
   "file_extension": ".py",
   "mimetype": "text/x-python",
   "name": "python",
   "nbconvert_exporter": "python",
   "pygments_lexer": "ipython3",
   "version": "3.9.12"
  }
 },
 "nbformat": 4,
 "nbformat_minor": 5
}
