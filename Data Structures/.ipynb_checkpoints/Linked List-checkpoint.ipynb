{
 "cells": [
  {
   "cell_type": "code",
   "execution_count": 3,
   "id": "05a42860",
   "metadata": {},
   "outputs": [],
   "source": [
    "# LINKED LIST FUNCTIONS :-\n",
    "# insertAtStart\n",
    "# insertAtEnd\n",
    "# insertValues\n",
    "# insertAfter\n",
    "\n",
    "# size\n",
    "# traverse\n",
    "\n",
    "# removeByVal\n",
    "# removeByIdx\n",
    "# removeHead\n",
    "# removeEnd\n",
    "# removeNodeBetwn # two values\n",
    "\n",
    "# REVERSE the Linked List***"
   ]
  },
  {
   "cell_type": "code",
   "execution_count": 372,
   "id": "3af83bc1",
   "metadata": {},
   "outputs": [],
   "source": [
    "class Node:\n",
    "    def __init__(self,data=None,next=None):\n",
    "        self.data=data\n",
    "        self.next=next\n",
    "        \n",
    "class LinkedList:\n",
    "    def __init__(self):\n",
    "        self.head=None\n",
    "        \n",
    "    def insertAtStart(self,data):\n",
    "        newNode = Node(data,self.head)\n",
    "        self.head = newNode\n",
    "        \n",
    "    def insertAtEnd(self,data):\n",
    "        if not self.head:\n",
    "            self.head=Node(data)\n",
    "            return\n",
    "        ptr=self.head\n",
    "        while ptr.next:\n",
    "            ptr=ptr.next\n",
    "        ptr.next=Node(data)\n",
    "    \n",
    "    def insertValues(self,lst):\n",
    "        for i in lst:\n",
    "            self.insertAtEnd(i)\n",
    "          \n",
    "    def insertAfter(self,data,val):\n",
    "        ptr=self.head\n",
    "        if not ptr:\n",
    "            return f'Linked List is EMPTY. Hence no node with data {val} is present!'\n",
    "        while ptr:\n",
    "            if ptr.data==val:\n",
    "                newNode=Node(data,ptr.next)\n",
    "                ptr.next=newNode\n",
    "            ptr=ptr.next\n",
    "    \n",
    "    @property\n",
    "    def traverse(self,):\n",
    "        if not self.head:\n",
    "            return 'Linked List is EMPTY!'\n",
    "        ptr=self.head\n",
    "        s=''\n",
    "        while ptr:\n",
    "            if not ptr.next:\n",
    "                s+=str(ptr.data)\n",
    "            else:\n",
    "                s+=str(ptr.data)+' --> '\n",
    "            ptr=ptr.next\n",
    "        return s\n",
    "    \n",
    "    @property\n",
    "    def size(self,):\n",
    "        c=0\n",
    "        ptr = self.head\n",
    "        while ptr:\n",
    "            c+=1\n",
    "            ptr=ptr.next\n",
    "        return c\n",
    "      \n",
    "    def removeHead(self):\n",
    "        if not self.head:\n",
    "            return 'No Head Node is present!'\n",
    "        self.head=self.head.next\n",
    "    \n",
    "    def removeEnd(self):\n",
    "        if not self.head:\n",
    "            return 'Linked List is EMPTY!'\n",
    "        elif not self.head.next:\n",
    "            self.head=None\n",
    "            return\n",
    "        ptr = self.head\n",
    "        while ptr.next.next:\n",
    "            ptr=ptr.next\n",
    "        ptr.next=None\n",
    "       \n",
    "    \"\"\"\n",
    "    def removeByVal(self,val): #deletes all nodes with data val\n",
    "        #for deleting only one val from LinkedList,\n",
    "        #add 'return' statement at c+=1 and remove stmts conataining 'c' variable \n",
    "        c=0\n",
    "        if not self.head:\n",
    "            return 'Linked List is EMPTY!'\n",
    "        elif self.head.data==val:\n",
    "            self.head=self.head.next\n",
    "            c+=1\n",
    "        ptr = self.head\n",
    "        while ptr.next.next:\n",
    "            if ptr.next.data == val:\n",
    "                ptr.next=ptr.next.next\n",
    "                c+=1\n",
    "            ptr=ptr.next\n",
    "        if not ptr.next.next and ptr.next.data==val:\n",
    "            ptr.next=None\n",
    "            c+=1\n",
    "            return c\n",
    "        if c==0:\n",
    "            return f'{val} is not present in any Node'\n",
    "        return c\n",
    "    \"\"\"\n",
    "    \n",
    "    def removeByVal(self,val): #deletes all nodes with data val\n",
    "        c=0\n",
    "        if not self.head:\n",
    "            return 'Linked List is EMPTY!'\n",
    "        elif self.head.data==val:\n",
    "            self.head=self.head.next\n",
    "            c+=1\n",
    "        prevNode=self.head\n",
    "        currNode=self.head.next\n",
    "        while currNode:\n",
    "            if currNode.data==val:\n",
    "                prevNode.next=currNode.next\n",
    "                c+=1\n",
    "                currNode=prevNode.next\n",
    "                continue\n",
    "            prevNode=prevNode.next    \n",
    "            currNode=currNode.next\n",
    "        if c==0:\n",
    "            return f'{val} is not present in any Node'\n",
    "        return c\n",
    "    \n",
    "    def removeByIdx(self,idx):\n",
    "        l=self.size\n",
    "        if not self.head:\n",
    "            return 'Linked List is EMPTY!'\n",
    "        elif idx==0:\n",
    "            data = self.head.data\n",
    "            self.head=self.head.next\n",
    "            return data\n",
    "        elif idx<0 or idx>=l:\n",
    "            return 'Invalid Index!'\n",
    "        i=0\n",
    "        ptr=self.head\n",
    "        while i<l and ptr:\n",
    "            if i==idx-1:\n",
    "                data = ptr.next.data\n",
    "                ptr.next=ptr.next.next\n",
    "                return data\n",
    "            i+=1\n",
    "            ptr=ptr.next\n",
    "    \n",
    "    def removeNodeBetw(self,val1,val2):\n",
    "        prevNode=self.head\n",
    "        currNode=self.head.next\n",
    "        while currNode.next:\n",
    "            if prevNode.data==val1 and currNode.next.data==val2:\n",
    "                data = currNode.data\n",
    "                prevNode.next=currNode.next\n",
    "                #del currNode\n",
    "                return data\n",
    "            prevNode=prevNode.next    \n",
    "            currNode=currNode.next\n",
    "        return 'No match found!'\n",
    "    \n",
    "    def reverseLL(self):\n",
    "        pass\n",
    "    \n",
    "    def reverseTraversal(self,head):\n",
    "        if head.next:\n",
    "            self.reverseTraversal(head.next)\n",
    "        print(head.data,end=' <-- ')\n",
    "        \n",
    "    def search(self,val):\n",
    "        ptr=self.head\n",
    "        s=''\n",
    "        while ptr:\n",
    "            if ptr.data==val:\n",
    "                s+=str(ptr.data)\n",
    "                return f'{val} is present'+' '+s\n",
    "            s+=str(ptr.data)+' --> '\n",
    "            ptr=ptr.next\n",
    "        return f'{val} is not present in LL'"
   ]
  },
  {
   "cell_type": "code",
   "execution_count": 176,
   "id": "4fc2aa9a",
   "metadata": {
    "scrolled": false
   },
   "outputs": [
    {
     "data": {
      "text/plain": [
       "'Linked List is EMPTY!'"
      ]
     },
     "execution_count": 176,
     "metadata": {},
     "output_type": "execute_result"
    }
   ],
   "source": [
    "ll=LinkedList()\n",
    "ll.traverse"
   ]
  },
  {
   "cell_type": "code",
   "execution_count": 155,
   "id": "47c123a9",
   "metadata": {},
   "outputs": [
    {
     "data": {
      "text/plain": [
       "'7 --> 8'"
      ]
     },
     "execution_count": 155,
     "metadata": {},
     "output_type": "execute_result"
    }
   ],
   "source": [
    "ll.insertAtStart(7)\n",
    "ll.insertAtEnd(8)\n",
    "ll.traverse"
   ]
  },
  {
   "cell_type": "code",
   "execution_count": 156,
   "id": "7f4f9cf4",
   "metadata": {},
   "outputs": [],
   "source": [
    "ll.insertValues([9,10,11,12])\n",
    "ll.insertAfter(13,12)"
   ]
  },
  {
   "cell_type": "code",
   "execution_count": 157,
   "id": "230ec402",
   "metadata": {},
   "outputs": [
    {
     "name": "stdout",
     "output_type": "stream",
     "text": [
      "7 --> 8 --> 9 --> 10 --> 11 --> 12 --> 13\n"
     ]
    },
    {
     "data": {
      "text/plain": [
       "'7 --> 8 --> 9 --> 10 --> 11 --> 12'"
      ]
     },
     "execution_count": 157,
     "metadata": {},
     "output_type": "execute_result"
    }
   ],
   "source": [
    "print(ll.traverse)\n",
    "ll.removeEnd()\n",
    "ll.traverse"
   ]
  },
  {
   "cell_type": "code",
   "execution_count": 158,
   "id": "982ae083",
   "metadata": {},
   "outputs": [
    {
     "data": {
      "text/plain": [
       "'3 --> 4'"
      ]
     },
     "execution_count": 158,
     "metadata": {},
     "output_type": "execute_result"
    }
   ],
   "source": [
    "ll2=LinkedList()\n",
    "ll2.insertAfter(3,4)\n",
    "ll2.insertAtEnd(3)\n",
    "ll2.insertAfter(4,3)\n",
    "ll2.traverse"
   ]
  },
  {
   "cell_type": "code",
   "execution_count": 159,
   "id": "8b215380",
   "metadata": {},
   "outputs": [],
   "source": [
    "ll3=LinkedList()\n",
    "ll3.insertValues([2])\n",
    "ll3.removeHead()"
   ]
  },
  {
   "cell_type": "code",
   "execution_count": 160,
   "id": "6fa031aa",
   "metadata": {},
   "outputs": [
    {
     "data": {
      "text/plain": [
       "'No Head Node is present!'"
      ]
     },
     "execution_count": 160,
     "metadata": {},
     "output_type": "execute_result"
    }
   ],
   "source": [
    "ll3.removeHead()"
   ]
  },
  {
   "cell_type": "code",
   "execution_count": 373,
   "id": "ad0ca05c",
   "metadata": {},
   "outputs": [
    {
     "name": "stdout",
     "output_type": "stream",
     "text": [
      "3\n"
     ]
    },
    {
     "data": {
      "text/plain": [
       "'3 --> 5 --> 6 --> 7'"
      ]
     },
     "execution_count": 373,
     "metadata": {},
     "output_type": "execute_result"
    }
   ],
   "source": [
    "ll4=LinkedList()\n",
    "ll4.insertValues([2,3,2,5,6,7,2])\n",
    "print(ll4.removeByVal(2))\n",
    "ll4.traverse"
   ]
  },
  {
   "cell_type": "code",
   "execution_count": 374,
   "id": "6b016c4f",
   "metadata": {},
   "outputs": [
    {
     "data": {
      "text/plain": [
       "'6 is present 3 --> 5 --> 6'"
      ]
     },
     "execution_count": 374,
     "metadata": {},
     "output_type": "execute_result"
    }
   ],
   "source": [
    "ll4.search(6)"
   ]
  }
 ],
 "metadata": {
  "kernelspec": {
   "display_name": "Python 3 (ipykernel)",
   "language": "python",
   "name": "python3"
  },
  "language_info": {
   "codemirror_mode": {
    "name": "ipython",
    "version": 3
   },
   "file_extension": ".py",
   "mimetype": "text/x-python",
   "name": "python",
   "nbconvert_exporter": "python",
   "pygments_lexer": "ipython3",
   "version": "3.9.12"
  }
 },
 "nbformat": 4,
 "nbformat_minor": 5
}
