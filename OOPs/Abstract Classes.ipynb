{
 "cells": [
  {
   "cell_type": "code",
   "execution_count": 1,
   "id": "d1d511de",
   "metadata": {},
   "outputs": [],
   "source": [
    "# @abstractmethod should be used before every abstract function"
   ]
  },
  {
   "cell_type": "code",
   "execution_count": 2,
   "id": "ad71cfa3",
   "metadata": {},
   "outputs": [],
   "source": [
    "from abc import ABC, abstractmethod"
   ]
  },
  {
   "cell_type": "code",
   "execution_count": 3,
   "id": "1ac3f37c",
   "metadata": {},
   "outputs": [],
   "source": [
    "class Vehicle(ABC):\n",
    "    # interface is created in the abstract class\n",
    "    @abstractmethod\n",
    "    def get_value(self):\n",
    "        pass\n",
    "\n",
    "class Car(Vehicle):\n",
    "    def __init__(self, made_in, model, fare):\n",
    "        self.made_in=made_in\n",
    "        self.model=model\n",
    "        self.fare=fare\n",
    "    \n",
    "    # implementation is created in the derived class\n",
    "    def get_value(self):\n",
    "        return 100+self.fare"
   ]
  },
  {
   "cell_type": "code",
   "execution_count": 4,
   "id": "25b87bf3",
   "metadata": {},
   "outputs": [],
   "source": [
    "obj = Car('China','Tesla t2', 40)"
   ]
  },
  {
   "cell_type": "code",
   "execution_count": 5,
   "id": "6821a050",
   "metadata": {},
   "outputs": [
    {
     "data": {
      "text/plain": [
       "140"
      ]
     },
     "execution_count": 5,
     "metadata": {},
     "output_type": "execute_result"
    }
   ],
   "source": [
    "obj.get_value()"
   ]
  },
  {
   "cell_type": "code",
   "execution_count": 6,
   "id": "bc33342a",
   "metadata": {},
   "outputs": [
    {
     "ename": "TypeError",
     "evalue": "Can't instantiate abstract class Vehicle with abstract method get_value",
     "output_type": "error",
     "traceback": [
      "\u001b[0;31m---------------------------------------------------------------------------\u001b[0m",
      "\u001b[0;31mTypeError\u001b[0m                                 Traceback (most recent call last)",
      "Input \u001b[0;32mIn [6]\u001b[0m, in \u001b[0;36m<cell line: 1>\u001b[0;34m()\u001b[0m\n\u001b[0;32m----> 1\u001b[0m obj1 \u001b[38;5;241m=\u001b[39m \u001b[43mVehicle\u001b[49m\u001b[43m(\u001b[49m\u001b[43m)\u001b[49m\n",
      "\u001b[0;31mTypeError\u001b[0m: Can't instantiate abstract class Vehicle with abstract method get_value"
     ]
    }
   ],
   "source": [
    "obj1 = Vehicle()"
   ]
  },
  {
   "cell_type": "code",
   "execution_count": 7,
   "id": "1446125f",
   "metadata": {},
   "outputs": [],
   "source": [
    "class A(ABC):\n",
    "    @abstractmethod\n",
    "    def fun1(self):\n",
    "        pass\n",
    "    \n",
    "    @abstractmethod\n",
    "    def fun2(self):\n",
    "        pass\n",
    "    \n",
    "def B(A):\n",
    "    def fun1(self):\n",
    "        print('fun1 is called')"
   ]
  },
  {
   "cell_type": "code",
   "execution_count": 8,
   "id": "d7f6dcc1",
   "metadata": {},
   "outputs": [
    {
     "ename": "TypeError",
     "evalue": "B() missing 1 required positional argument: 'A'",
     "output_type": "error",
     "traceback": [
      "\u001b[0;31m---------------------------------------------------------------------------\u001b[0m",
      "\u001b[0;31mTypeError\u001b[0m                                 Traceback (most recent call last)",
      "Input \u001b[0;32mIn [8]\u001b[0m, in \u001b[0;36m<cell line: 1>\u001b[0;34m()\u001b[0m\n\u001b[0;32m----> 1\u001b[0m obj2 \u001b[38;5;241m=\u001b[39m \u001b[43mB\u001b[49m\u001b[43m(\u001b[49m\u001b[43m)\u001b[49m\n",
      "\u001b[0;31mTypeError\u001b[0m: B() missing 1 required positional argument: 'A'"
     ]
    }
   ],
   "source": [
    "obj2 = B()\n",
    "# all the abstarct methods, inherited from abstract class should be implemented"
   ]
  },
  {
   "cell_type": "code",
   "execution_count": 9,
   "id": "23a695aa",
   "metadata": {},
   "outputs": [],
   "source": [
    "class TextReaderAbstract(ABC):\n",
    "    def __init__(self,pathname,filename):\n",
    "        self.pathname=pathname\n",
    "        self.filename=filename\n",
    "    \n",
    "    @abstractmethod\n",
    "    def get_pathname(self):\n",
    "        pass\n",
    "    \n",
    "    @abstractmethod\n",
    "    def get_filename(self):\n",
    "        pass\n",
    "    \n",
    "    \n",
    "class TextReader(TextReaderAbstract):\n",
    "    # __init__ is inherited from parent class\n",
    "    def get_pathname(self):\n",
    "        return self.pathname\n",
    "    def get_filename(self):\n",
    "        return self.filename\n",
    "    \n"
   ]
  },
  {
   "cell_type": "code",
   "execution_count": 10,
   "id": "c3d1f2fc",
   "metadata": {},
   "outputs": [],
   "source": [
    "obj3 = TextReader('/downloads/filesdir','file.txt')"
   ]
  },
  {
   "cell_type": "code",
   "execution_count": 11,
   "id": "381157d2",
   "metadata": {},
   "outputs": [
    {
     "data": {
      "text/plain": [
       "'/downloads/filesdir'"
      ]
     },
     "execution_count": 11,
     "metadata": {},
     "output_type": "execute_result"
    }
   ],
   "source": [
    "obj3.get_pathname()"
   ]
  },
  {
   "cell_type": "code",
   "execution_count": 12,
   "id": "3e97f65a",
   "metadata": {},
   "outputs": [
    {
     "data": {
      "text/plain": [
       "'file.txt'"
      ]
     },
     "execution_count": 12,
     "metadata": {},
     "output_type": "execute_result"
    }
   ],
   "source": [
    "obj3.get_filename()"
   ]
  },
  {
   "cell_type": "code",
   "execution_count": 13,
   "id": "c8b84cde",
   "metadata": {},
   "outputs": [
    {
     "name": "stdout",
     "output_type": "stream",
     "text": [
      "function 1 is called from class B\n"
     ]
    }
   ],
   "source": [
    "class A(ABC):\n",
    "    @abstractmethod\n",
    "    def fun1(self):\n",
    "        print('function1 of A is called')\n",
    "    \n",
    "    @abstractmethod\n",
    "    def fun2(self):\n",
    "        pass\n",
    "    \n",
    "class B(A):\n",
    "    def fun1(self):\n",
    "        print('function 1 is called from class B')\n",
    "        \n",
    "    def fun2(self):\n",
    "        print('function 2 is called from class B')\n",
    "        \n",
    "obj4 = B()\n",
    "obj4.fun1()"
   ]
  },
  {
   "cell_type": "code",
   "execution_count": 14,
   "id": "a69b851f",
   "metadata": {},
   "outputs": [
    {
     "ename": "TypeError",
     "evalue": "Can't instantiate abstract class B with abstract method fun1",
     "output_type": "error",
     "traceback": [
      "\u001b[0;31m---------------------------------------------------------------------------\u001b[0m",
      "\u001b[0;31mTypeError\u001b[0m                                 Traceback (most recent call last)",
      "Input \u001b[0;32mIn [14]\u001b[0m, in \u001b[0;36m<cell line: 17>\u001b[0;34m()\u001b[0m\n\u001b[1;32m     14\u001b[0m     \u001b[38;5;28;01mdef\u001b[39;00m \u001b[38;5;21mfun2\u001b[39m(\u001b[38;5;28mself\u001b[39m):\n\u001b[1;32m     15\u001b[0m         \u001b[38;5;28mprint\u001b[39m(\u001b[38;5;124m'\u001b[39m\u001b[38;5;124mfunction 2 is called from class B\u001b[39m\u001b[38;5;124m'\u001b[39m)\n\u001b[0;32m---> 17\u001b[0m obj4 \u001b[38;5;241m=\u001b[39m \u001b[43mB\u001b[49m\u001b[43m(\u001b[49m\u001b[43m)\u001b[49m\n\u001b[1;32m     18\u001b[0m obj4\u001b[38;5;241m.\u001b[39mfun1()\n",
      "\u001b[0;31mTypeError\u001b[0m: Can't instantiate abstract class B with abstract method fun1"
     ]
    }
   ],
   "source": [
    "class A(ABC):\n",
    "    @abstractmethod\n",
    "    def fun1(self):\n",
    "        print('function1 of A is called')\n",
    "    \n",
    "    @abstractmethod\n",
    "    def fun2(self):\n",
    "        pass\n",
    "    \n",
    "class B(A):\n",
    "#     def fun1(self):\n",
    "#         print('function 1 is called from class B')\n",
    "        \n",
    "    def fun2(self):\n",
    "        print('function 2 is called from class B')\n",
    "        \n",
    "obj4 = B()\n",
    "obj4.fun1()"
   ]
  },
  {
   "cell_type": "code",
   "execution_count": 15,
   "id": "98833a09",
   "metadata": {},
   "outputs": [
    {
     "name": "stdout",
     "output_type": "stream",
     "text": [
      "function1 of A is called\n"
     ]
    }
   ],
   "source": [
    "class A(ABC):\n",
    "    @abstractmethod\n",
    "    def fun1(self):\n",
    "        print('function1 of A is called')\n",
    "    \n",
    "    @abstractmethod\n",
    "    def fun2(self):\n",
    "        pass\n",
    "    \n",
    "class B(A):\n",
    "    def fun1(self):\n",
    "        super().fun1()\n",
    "        \n",
    "    def fun2(self):\n",
    "        print('function 2 is called from class B')\n",
    "        \n",
    "obj4 = B()\n",
    "obj4.fun1()"
   ]
  }
 ],
 "metadata": {
  "kernelspec": {
   "display_name": "Python 3 (ipykernel)",
   "language": "python",
   "name": "python3"
  },
  "language_info": {
   "codemirror_mode": {
    "name": "ipython",
    "version": 3
   },
   "file_extension": ".py",
   "mimetype": "text/x-python",
   "name": "python",
   "nbconvert_exporter": "python",
   "pygments_lexer": "ipython3",
   "version": "3.9.12"
  }
 },
 "nbformat": 4,
 "nbformat_minor": 5
}
