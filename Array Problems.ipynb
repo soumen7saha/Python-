{
 "cells": [
  {
   "cell_type": "code",
   "execution_count": 1,
   "id": "e558c900",
   "metadata": {},
   "outputs": [],
   "source": [
    "# Find unique element\n",
    "# Duplicate in array\n",
    "# Pair Sum in Array\n",
    "# Triplet sum\n",
    "# Rotate Array\n",
    "#"
   ]
  },
  {
   "cell_type": "code",
   "execution_count": 44,
   "id": "1b35e730",
   "metadata": {},
   "outputs": [
    {
     "data": {
      "text/plain": [
       "[1, 2, 3, 4]"
      ]
     },
     "execution_count": 44,
     "metadata": {},
     "output_type": "execute_result"
    }
   ],
   "source": [
    "#Rotate an Array\n",
    "l=[1,2,3,4]\n",
    "\n",
    "def rotateByOne(arr,n):\n",
    "    t=arr[-1]\n",
    "    for i in range(n-1,0,-1):\n",
    "        arr[i]=arr[i-1]\n",
    "    arr[0]=t\n",
    "\n",
    "def rotateArray(arr,l,n):\n",
    "    if n%l==0:\n",
    "        return \n",
    "    for i in range(n):\n",
    "        rotateByOne(arr,l)\n",
    "\n",
    "rotateArray(l,4,4)\n",
    "l"
   ]
  },
  {
   "cell_type": "code",
   "execution_count": 45,
   "id": "ed721154",
   "metadata": {},
   "outputs": [
    {
     "data": {
      "text/plain": [
       "[1, 3, 6, 11, 12, 17]"
      ]
     },
     "execution_count": 45,
     "metadata": {},
     "output_type": "execute_result"
    }
   ],
   "source": [
    "arr = [1,3,6,11,12,17]\n",
    "n=6\n",
    "d=4\n",
    "\n",
    "def rotate(arr,n,d):\n",
    "    r = d%n\n",
    "    arr = arr[r:]+arr[:r]\n",
    "rotate(arr,n,d)\n",
    "arr"
   ]
  },
  {
   "cell_type": "code",
   "execution_count": 12,
   "id": "8065e489",
   "metadata": {},
   "outputs": [
    {
     "name": "stdout",
     "output_type": "stream",
     "text": [
      "44 65 87 76 "
     ]
    },
    {
     "data": {
      "text/plain": [
       "{44: 3, 65: 2, 87: 4, 76: 2, 56: 1, 85: 1, 62: 1}"
      ]
     },
     "execution_count": 12,
     "metadata": {},
     "output_type": "execute_result"
    }
   ],
   "source": [
    "#Duplicate in array\n",
    "arr=[44,65,87,44,76,65,44,76,87,56,85,87,62,87]\n",
    "d={}\n",
    "for i in arr:\n",
    "    if i not in d.keys():\n",
    "        d[i]=1\n",
    "    else:\n",
    "        d[i]+=1\n",
    "for i in d.keys():\n",
    "    if d[i]>1:\n",
    "        print(i,end=' ')\n",
    "d"
   ]
  },
  {
   "cell_type": "code",
   "execution_count": 14,
   "id": "36097401",
   "metadata": {},
   "outputs": [
    {
     "name": "stdout",
     "output_type": "stream",
     "text": [
      "85 "
     ]
    },
    {
     "data": {
      "text/plain": [
       "{44: 3, 65: 2, 87: 4, 76: 2, 85: 1}"
      ]
     },
     "execution_count": 14,
     "metadata": {},
     "output_type": "execute_result"
    }
   ],
   "source": [
    "#Find Unique\n",
    "arr=[44,65,87,44,76,65,44,76,87,85,87,87]\n",
    "d={}\n",
    "for i in arr:\n",
    "    if i not in d.keys():\n",
    "        d[i]=1\n",
    "    else:\n",
    "        d[i]+=1\n",
    "for i in d.keys():\n",
    "    if d[i]==1:\n",
    "        print(i,end=' ')\n",
    "d"
   ]
  },
  {
   "cell_type": "code",
   "execution_count": 15,
   "id": "392db53b",
   "metadata": {},
   "outputs": [
    {
     "name": "stdout",
     "output_type": "stream",
     "text": [
      "8 2\n",
      "5 5\n"
     ]
    }
   ],
   "source": [
    "#Pair Sum in Array\n",
    "s=10\n",
    "arr=[2,8,10,5,-2,5]\n",
    "\n",
    "def pair_sum(arr,sum):\n",
    "    d={}\n",
    "    for i,e in enumerate(arr):\n",
    "        if sum-e in d:\n",
    "            print(e,sum-e)\n",
    "        d[e]=i\n",
    "        \n",
    "pair_sum(arr,s)"
   ]
  },
  {
   "cell_type": "code",
   "execution_count": 33,
   "id": "c2b6fe76",
   "metadata": {},
   "outputs": [
    {
     "data": {
      "text/plain": [
       "[{1, 4, 7}, {1, 5, 6}, {2, 3, 7}, {2, 4, 6}, {3, 4, 5}]"
      ]
     },
     "execution_count": 33,
     "metadata": {},
     "output_type": "execute_result"
    }
   ],
   "source": [
    "#Triplet sum\n",
    "arr=[1,2,3,4,5,6,7]\n",
    "s=12\n",
    "n=7\n",
    "\n",
    "def triplet_sum(arr,n,sum):\n",
    "    d={}\n",
    "    l=[]\n",
    "    for i,e in enumerate(arr):\n",
    "        d[e]=i\n",
    "    for i in range(n-1):\n",
    "        for j in range(i+1,n):\n",
    "            val = sum - (arr[i]+arr[j])\n",
    "            if val in d and d[val]!=i and d[val]!=j and {arr[i],arr[j],val} not in l:\n",
    "                l.append({arr[i],arr[j],val})\n",
    "    return l\n",
    "        \n",
    "triplet_sum(arr,n,s)"
   ]
  },
  {
   "cell_type": "code",
   "execution_count": 26,
   "id": "058c08fd",
   "metadata": {},
   "outputs": [
    {
     "data": {
      "text/plain": [
       "True"
      ]
     },
     "execution_count": 26,
     "metadata": {},
     "output_type": "execute_result"
    }
   ],
   "source": [
    "{1,2}=={2,1}"
   ]
  },
  {
   "cell_type": "code",
   "execution_count": 25,
   "id": "d984707f",
   "metadata": {},
   "outputs": [
    {
     "data": {
      "text/plain": [
       "True"
      ]
     },
     "execution_count": 25,
     "metadata": {},
     "output_type": "execute_result"
    }
   ],
   "source": [
    "(1,2)==(1,2)"
   ]
  },
  {
   "cell_type": "code",
   "execution_count": 32,
   "id": "74c0b156",
   "metadata": {},
   "outputs": [
    {
     "data": {
      "text/plain": [
       "[{1, 2}]"
      ]
     },
     "execution_count": 32,
     "metadata": {},
     "output_type": "execute_result"
    }
   ],
   "source": [
    "l=[]\n",
    "l.append({1,2})\n",
    "if {2,1} not in l:\n",
    "    l.append({2,1})\n",
    "l"
   ]
  },
  {
   "cell_type": "code",
   "execution_count": 36,
   "id": "835f14f6",
   "metadata": {},
   "outputs": [
    {
     "data": {
      "text/plain": [
       "[3, 4, 5, 6, 7, 8, 9, 0, 1, 2]"
      ]
     },
     "execution_count": 36,
     "metadata": {},
     "output_type": "execute_result"
    }
   ],
   "source": [
    "arr=[1,2,3,4,5,6,7,8,9,0]\n",
    "arr[2:]+arr[:2]"
   ]
  },
  {
   "cell_type": "code",
   "execution_count": 63,
   "id": "73af7fd2",
   "metadata": {},
   "outputs": [
    {
     "data": {
      "text/plain": [
       "'1 5 8 5 '"
      ]
     },
     "execution_count": 63,
     "metadata": {},
     "output_type": "execute_result"
    }
   ],
   "source": [
    "#Array Intersection\n",
    "arr1=[2,5,1,8,4]\n",
    "n = 5\n",
    "arr2=[5,3,1]\n",
    "m = 3\n",
    "arr1.sort()\n",
    "arr2.sort()\n",
    "def intersect(arr1,n,arr2,m):\n",
    "    s=''\n",
    "    i = 0\n",
    "    j = 0\n",
    "    min = n if n<m else m\n",
    "    while(i<min and j<min):\n",
    "        if arr1[i]<arr2[j]:\n",
    "            i+=1\n",
    "        elif arr1[i]>arr2[j]:\n",
    "            j+=1\n",
    "        else:\n",
    "            s+=str(arr1[i])+' '\n",
    "            i+=1\n",
    "            j+=1\n",
    "    while i<n:\n",
    "        s+=str(arr1[i])+' '\n",
    "        i+=1\n",
    "    while j<m:\n",
    "        s+=str(arr2[j])+' '\n",
    "        j+=1 \n",
    "    return s\n",
    "intersect(arr1,n,arr2,m)"
   ]
  },
  {
   "cell_type": "code",
   "execution_count": 52,
   "id": "fe3b5693",
   "metadata": {},
   "outputs": [
    {
     "data": {
      "text/plain": [
       "3"
      ]
     },
     "execution_count": 52,
     "metadata": {},
     "output_type": "execute_result"
    }
   ],
   "source": [
    "n=2\n",
    "m = 3\n",
    "max = n if n>m else m\n",
    "max"
   ]
  },
  {
   "cell_type": "code",
   "execution_count": 72,
   "id": "f688f5fa",
   "metadata": {},
   "outputs": [
    {
     "name": "stdout",
     "output_type": "stream",
     "text": [
      "4 0\n"
     ]
    },
    {
     "data": {
      "text/plain": [
       "'2 '"
      ]
     },
     "execution_count": 72,
     "metadata": {},
     "output_type": "execute_result"
    }
   ],
   "source": [
    "#Find Equlibrium Index\n",
    "arr=[1,-1,4]\n",
    "n=3\n",
    "\n",
    "def equi(arr,n):\n",
    "    ls=0\n",
    "    rs=sum(arr)\n",
    "    s=''\n",
    "    for i in range(n):\n",
    "        rs-=arr[i]\n",
    "        if ls == rs:\n",
    "            s+=str(i)+' '\n",
    "        ls+=arr[i]\n",
    "    print(ls,rs)\n",
    "    if s=='':\n",
    "        return -1\n",
    "    return s\n",
    "equi(arr,n)"
   ]
  },
  {
   "cell_type": "code",
   "execution_count": null,
   "id": "07afce94",
   "metadata": {},
   "outputs": [],
   "source": []
  }
 ],
 "metadata": {
  "kernelspec": {
   "display_name": "Python 3 (ipykernel)",
   "language": "python",
   "name": "python3"
  },
  "language_info": {
   "codemirror_mode": {
    "name": "ipython",
    "version": 3
   },
   "file_extension": ".py",
   "mimetype": "text/x-python",
   "name": "python",
   "nbconvert_exporter": "python",
   "pygments_lexer": "ipython3",
   "version": "3.9.12"
  }
 },
 "nbformat": 4,
 "nbformat_minor": 5
}
